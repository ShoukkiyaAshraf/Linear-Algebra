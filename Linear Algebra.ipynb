{
  "cells": [
    {
      "metadata": {
        "trusted": true
      },
      "cell_type": "code",
      "source": "import numpy as np\nimport scipy",
      "execution_count": 2,
      "outputs": []
    },
    {
      "metadata": {},
      "cell_type": "markdown",
      "source": "# Eigen Value and Singular Values"
    },
    {
      "metadata": {
        "trusted": true
      },
      "cell_type": "code",
      "source": "W= np.array([[1,3,2,4,6],[3,2,7,8,7],[2,7,3,7,8],[4,8,7,4,9],[6,7,8,9,5]])\nprint(W)",
      "execution_count": 3,
      "outputs": [
        {
          "output_type": "stream",
          "text": "[[1 3 2 4 6]\n [3 2 7 8 7]\n [2 7 3 7 8]\n [4 8 7 4 9]\n [6 7 8 9 5]]\n",
          "name": "stdout"
        }
      ]
    },
    {
      "metadata": {
        "trusted": true
      },
      "cell_type": "code",
      "source": "eigen_value = np.linalg.eigvals(W)\nprint(eigen_value)",
      "execution_count": 4,
      "outputs": [
        {
          "output_type": "stream",
          "text": "[28.76788357  0.33568739 -5.94300937 -4.66313837 -3.49742322]\n",
          "name": "stdout"
        }
      ]
    },
    {
      "metadata": {
        "trusted": true
      },
      "cell_type": "code",
      "source": "W_Transpose=W.T\nA=np.multiply(W,W_Transpose)\neigen_value_A=np.linalg.eigvals(A)\nprint(eigen_value_A)\nsingular_value=scipy.sqrt(eigen_value_A)\nprint(singular_value)",
      "execution_count": 5,
      "outputs": [
        {
          "output_type": "stream",
          "text": "[199.9057806    4.44297896 -71.79533059 -43.52551197 -34.02791699]\n[14.13880407+0.j          2.10783751+0.j          0.        +8.47321253j\n  0.        +6.59738675j  0.        +5.83334527j]\n",
          "name": "stdout"
        }
      ]
    },
    {
      "metadata": {},
      "cell_type": "markdown",
      "source": "# L2 Norm"
    },
    {
      "metadata": {
        "trusted": true
      },
      "cell_type": "code",
      "source": "W= np.array([[1,3,2,4,6],[3,2,7,8,7],[2,7,3,7,8],[4,8,7,4,9],[6,7,8,9,5]])\ny0=np.array([1,0,0,0,0])\nb=np.array([0,1,0,0,0])\n#1=np.add((W*y0),b)\n#1=W.T*y0+b\ny1=np.dot(W.T,y0)+b\nprint(y1)\nL2=np.linalg.norm(y1)\nprint(L2)",
      "execution_count": 6,
      "outputs": [
        {
          "output_type": "stream",
          "text": "[1 4 2 4 6]\n8.54400374531753\n",
          "name": "stdout"
        }
      ]
    },
    {
      "metadata": {
        "trusted": true
      },
      "cell_type": "code",
      "source": "#y2=W*y1+b\ny2=np.dot(W.T,y1)+b\nL2_y2=np.linalg.norm(y2)\nL2_y0=np.linalg.norm(y0)\nprint(L2_y2/L2_y0)",
      "execution_count": 9,
      "outputs": [
        {
          "output_type": "stream",
          "text": "234.86379031259798\n",
          "name": "stdout"
        }
      ]
    }
  ],
  "metadata": {
    "kernelspec": {
      "name": "python36",
      "display_name": "Python 3.6",
      "language": "python"
    },
    "language_info": {
      "mimetype": "text/x-python",
      "nbconvert_exporter": "python",
      "name": "python",
      "pygments_lexer": "ipython3",
      "version": "3.6.6",
      "file_extension": ".py",
      "codemirror_mode": {
        "version": 3,
        "name": "ipython"
      }
    }
  },
  "nbformat": 4,
  "nbformat_minor": 2
}