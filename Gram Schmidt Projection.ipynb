{
 "cells": [
  {
   "cell_type": "code",
   "execution_count": 95,
   "metadata": {},
   "outputs": [],
   "source": [
    "import numpy as np"
   ]
  },
  {
   "cell_type": "markdown",
   "metadata": {},
   "source": [
    "# Gram Schmidt Projection"
   ]
  },
  {
   "cell_type": "code",
   "execution_count": 101,
   "metadata": {},
   "outputs": [],
   "source": [
    "def proj(v,w):\n",
    "    '''Compute Projection Vector\n",
    "       v & w : inputs\n",
    "    '''\n",
    "    return ((np.dot(v,w)/np.dot(w,w))*w)"
   ]
  },
  {
   "cell_type": "code",
   "execution_count": 102,
   "metadata": {},
   "outputs": [],
   "source": [
    "def GS(v):\n",
    "    '''Compute orthogonal basis using Gram Schmidt Projection\n",
    "        v : input vector\n",
    "    '''\n",
    "    w=[]# empty list 'w' to compute orthogonal vector\n",
    "    for i in range(len(v)):#process through each input vector\n",
    "        temp=v[i] #Assign 1st vector to a list 'temp'\n",
    "        for j in w:#process through the already computed orthogonal basis; initially empy\n",
    "            temp=temp-proj(v[i],j)#GS Formula\n",
    "        w.append(temp)#Adding the resultant orthogonal vector to list 'w'\n",
    "    return w\n",
    "\n",
    "            "
   ]
  },
  {
   "cell_type": "code",
   "execution_count": 103,
   "metadata": {},
   "outputs": [
    {
     "name": "stdout",
     "output_type": "stream",
     "text": [
      "[[ 1.   1.   1.   1. ]\n",
      " [-2.  -1.   1.   2. ]\n",
      " [ 1.6 -1.7 -1.3  1.4]]\n"
     ]
    }
   ],
   "source": [
    "input_vectors=np.array([[1,1,1,1],[1,2,4,5],[1,-3,-4,-2]])#input vectors\n",
    "orthogonal_proj=np.array(GS(input_vectors))#calling function GS to compute orthogonal basis\n",
    "print(orthogonal_proj)#Printing orthogonal basis"
   ]
  },
  {
   "cell_type": "code",
   "execution_count": 104,
   "metadata": {},
   "outputs": [
    {
     "name": "stdout",
     "output_type": "stream",
     "text": [
      "0.0\n"
     ]
    }
   ],
   "source": [
    "print(orthogonal_proj[0].dot(orthogonal_proj[1]))#checking for orthogonality"
   ]
  },
  {
   "cell_type": "code",
   "execution_count": 105,
   "metadata": {},
   "outputs": [
    {
     "name": "stdout",
     "output_type": "stream",
     "text": [
      "0.0\n"
     ]
    }
   ],
   "source": [
    "print(orthogonal_proj[0].dot(orthogonal_proj[2]))#checking for orthogonality"
   ]
  },
  {
   "cell_type": "code",
   "execution_count": null,
   "metadata": {},
   "outputs": [],
   "source": []
  }
 ],
 "metadata": {
  "kernelspec": {
   "display_name": "Python 3",
   "language": "python",
   "name": "python3"
  },
  "language_info": {
   "codemirror_mode": {
    "name": "ipython",
    "version": 3
   },
   "file_extension": ".py",
   "mimetype": "text/x-python",
   "name": "python",
   "nbconvert_exporter": "python",
   "pygments_lexer": "ipython3",
   "version": "3.7.2"
  }
 },
 "nbformat": 4,
 "nbformat_minor": 2
}
